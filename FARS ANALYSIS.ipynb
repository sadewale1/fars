{
 "cells": [
  {
   "cell_type": "markdown",
   "metadata": {},
   "source": [
    "#   FARS Analysis\n",
    "## Written by Sikiru Adewale"
   ]
  },
  {
   "cell_type": "markdown",
   "metadata": {},
   "source": [
    "## Problem 1.\n",
    "\n",
    "For each state, what day of the week has the most accidents? Use the DAY_WEEK column. Output the day and the count. For the values output the day name, where 1 is Sunday, 2 is Monday, ... and 7 is Saturday. "
   ]
  },
  {
   "cell_type": "code",
   "execution_count": 9,
   "metadata": {},
   "outputs": [],
   "source": [
    "import pandas as pd\n",
    "import os\n"
   ]
  },
  {
   "cell_type": "code",
   "execution_count": 10,
   "metadata": {},
   "outputs": [
    {
     "name": "stdout",
     "output_type": "stream",
     "text": [
      "In Alabama, Saturday has the most accidents of 166\n",
      "In Alaska, Friday has the most accidents of 15\n",
      "In Arizona, Saturday has the most accidents of 150\n",
      "In Arkansas, Monday has the most accidents of 85\n",
      "In California, Saturday has the most accidents of 614\n",
      "In Colorado, Friday has the most accidents of 95\n",
      "In Connecticut, Thursday has the most accidents of 50\n",
      "In Delaware, Saturday has the most accidents of 26\n",
      "In District of Columbia, Friday has the most accidents of 5\n",
      "In Florida, Saturday has the most accidents of 507\n",
      "In Georgia, Saturday has the most accidents of 258\n",
      "In Hawaii, Saturday has the most accidents of 25\n",
      "In Idaho, Friday has the most accidents of 38\n",
      "In Illinois, Saturday has the most accidents of 202\n",
      "In Indiana, Friday has the most accidents of 127\n",
      "In Iowa, Saturday has the most accidents of 65\n",
      "In Kansas, Saturday has the most accidents of 63\n",
      "In Kentucky, Saturday has the most accidents of 133\n",
      "In Louisiana, Sunday has the most accidents of 128\n",
      "In Maine, Saturday has the most accidents of 30\n",
      "In Maryland, Saturday has the most accidents of 96\n",
      "In Massachusetts, Saturday has the most accidents of 61\n",
      "In Michigan, Saturday has the most accidents of 175\n",
      "In Minnesota, Saturday has the most accidents of 58\n",
      "In Mississippi, Saturday has the most accidents of 118\n",
      "In Missouri, Saturday has the most accidents of 156\n",
      "In Montana, Saturday has the most accidents of 34\n",
      "In Nebraska, Sunday has the most accidents of 38\n",
      "In Nevada, Saturday has the most accidents of 56\n",
      "In New Hampshire, Friday has the most accidents of 26\n",
      "In New Jersey, Saturday has the most accidents of 105\n",
      "In New Mexico, Saturday has the most accidents of 69\n",
      "In New York, Saturday has the most accidents of 159\n",
      "In North Carolina, Saturday has the most accidents of 219\n",
      "In North Dakota, Saturday has the most accidents of 22\n",
      "In Ohio, Saturday has the most accidents of 194\n",
      "In Oklahoma, Saturday has the most accidents of 109\n",
      "In Oregon, Saturday has the most accidents of 76\n",
      "In Pennsylvania, Friday has the most accidents of 186\n",
      "In Rhode Island, Thursday has the most accidents of 14\n",
      "In South Carolina, Saturday has the most accidents of 182\n",
      "In South Dakota, Saturday has the most accidents of 18\n",
      "In Tennessee, Saturday has the most accidents of 187\n",
      "In Texas, Saturday has the most accidents of 604\n",
      "In Utah, Saturday has the most accidents of 44\n",
      "In Vermont, Wednesday has the most accidents of 11\n",
      "In Virginia, Saturday has the most accidents of 139\n",
      "In Washington, Saturday has the most accidents of 87\n",
      "In West Virginia, Wednesday has the most accidents of 41\n",
      "In Wisconsin, Saturday has the most accidents of 112\n",
      "In Wyoming, Thursday has the most accidents of 19\n"
     ]
    },
    {
     "data": {
      "text/plain": [
       "pandas.core.series.Series"
      ]
     },
     "execution_count": 10,
     "metadata": {},
     "output_type": "execute_result"
    }
   ],
   "source": [
    "#Reading the file which has population estimates of the United States\n",
    "#nst = pd.read_csv(\"C:/Users/Ademola/Desktop/FARS/nst-est2017-alldata.csv\")\n",
    "d = os.path.join(os.getcwd(), 'nst-est2017-alldata.csv')\n",
    "nst = pd.read_csv(d)\n",
    "code = nst['STATE'][5:57]\n",
    "state = nst['NAME'][5:57]\n",
    "states = dict(zip(code, state))\n",
    "\n",
    "#Reading a folder\n",
    "files =[i for i in os.listdir(\"FARS\") if i.startswith(\"a\")]\n",
    "#print(files)\n",
    "\n",
    "##Days of the week\n",
    "days= {1:'Sunday', 2:'Monday', 3:'Tuesday', 4:'Wednesday', 5:'Thursday', 6:'Friday', 7:'Saturday'}\n",
    "\n",
    "##Reading the files in the folder\n",
    "fars=[]\n",
    "for file in files:\n",
    "    new_data=os.path.join(\"FARS\",file)\n",
    "    nd=pd.read_csv(new_data)\n",
    "    fars.append(nd)\n",
    "\n",
    "###Solution to problem 1\n",
    "for frame in fars:\n",
    "    nColumn=frame.DAY_WEEK\n",
    "    highestNumber=nColumn.mode().values[0]\n",
    "    highestNumCount=nColumn.value_counts()[highestNumber]\n",
    "\n",
    "    day=days[highestNumber]\n",
    "    statecode=frame.STATE[0]\n",
    "    st=states[statecode]\n",
    "    print('In', st+\",\", day, 'has the most accidents', 'of', highestNumCount)\n",
    "    \n",
    "    \n",
    "type(code)"
   ]
  },
  {
   "cell_type": "markdown",
   "metadata": {},
   "source": [
    "### Problem 1 Code Description\n",
    "I read the data to notebook, and use variable declaration to select state code of the US states by slicing the required contents. The state variable declaration is used to create a list for the required states, including Puerto Rico. I combined the two variables to ensure everything is in order. Day week column is appended to wColumn, and the mode and highest count were sliced for the corresponding day and count."
   ]
  },
  {
   "cell_type": "markdown",
   "metadata": {},
   "source": [
    "### Problem 2\n",
    "For whole United States, i.e., all the data, what day of the week has the most accidents? Output the day and the count. "
   ]
  },
  {
   "cell_type": "code",
   "execution_count": 11,
   "metadata": {},
   "outputs": [
    {
     "name": "stdout",
     "output_type": "stream",
     "text": [
      "Saturday has the most accident with a total of 6104 accidents\n"
     ]
    }
   ],
   "source": [
    "wData=list()\n",
    "for record in fars:\n",
    "    wColumn=record.DAY_WEEK.values\n",
    "    for i in wColumn:\n",
    "        wData.append(i)\n",
    "wSeries=pd.Series(wData) \n",
    "highestd=wSeries.mode()[0]\n",
    "NumCount=wSeries.value_counts()[highestd]\n",
    "day = days[highestd]\n",
    "print(day,'has the most accident with a total of', NumCount, 'accidents')"
   ]
  },
  {
   "cell_type": "markdown",
   "metadata": {},
   "source": [
    "### Problem 2 Code Description\n",
    "The for loop appended DAY_WEEK column to the wData empty list. The day of the highest (mode) accident were sliced. The day and highest accidents are printed."
   ]
  },
  {
   "cell_type": "markdown",
   "metadata": {},
   "source": [
    "### Probelm 3\n",
    "For each state, what hour of the day has the most accidents? Output the hour and the count. \n",
    " * A value of 99 in the HOUR means unknown."
   ]
  },
  {
   "cell_type": "code",
   "execution_count": 12,
   "metadata": {},
   "outputs": [
    {
     "name": "stdout",
     "output_type": "stream",
     "text": [
      "In Alabama, the 16 hour has the most accident with 54 count of accident 54\n",
      "In Alaska, the 5 hour has the most accident with 7 count of accident 7\n",
      "In Arizona, the 19 hour has the most accident with 65 count of accident 65\n",
      "In Arkansas, the 17 hour has the most accident with 39 count of accident 39\n",
      "In California, the 20 hour has the most accident with 210 count of accident 210\n",
      "In Colorado, the 13 hour has the most accident with 38 count of accident 38\n",
      "In Connecticut, the 17 hour has the most accident with 22 count of accident 22\n",
      "In Delaware, the 21 hour has the most accident with 10 count of accident 10\n",
      "In District of Columbia, the 2 hour has the most accident with 4 count of accident 4\n",
      "In Florida, the 21 hour has the most accident with 208 count of accident 208\n",
      "In Georgia, the 18 hour has the most accident with 84 count of accident 84\n",
      "In Hawaii, the 20 hour has the most accident with 10 count of accident 10\n",
      "In Idaho, the 16 hour has the most accident with 17 count of accident 17\n",
      "In Illinois, the 16 hour has the most accident with 64 count of accident 64\n",
      "In Indiana, the 17 hour has the most accident with 50 count of accident 50\n",
      "In Iowa, the 17 hour has the most accident with 26 count of accident 26\n",
      "In Kansas, the 16 hour has the most accident with 28 count of accident 28\n",
      "In Kentucky, the 16 hour has the most accident with 57 count of accident 57\n",
      "In Louisiana, the 17 hour has the most accident with 48 count of accident 48\n",
      "In Maine, the 18 hour has the most accident with 12 count of accident 12\n",
      "In Maryland, the 22 hour has the most accident with 32 count of accident 32\n",
      "In Massachusetts, the 22 hour has the most accident with 25 count of accident 25\n",
      "In Michigan, the 15 hour has the most accident with 59 count of accident 59\n",
      "In Minnesota, the 15 hour has the most accident with 28 count of accident 28\n",
      "In Mississippi, the 17 hour has the most accident with 41 count of accident 41\n",
      "In Missouri, the 18 hour has the most accident with 57 count of accident 57\n",
      "In Montana, the 15 hour has the most accident with 13 count of accident 13\n",
      "In Nebraska, the 99 hour has the most accident with 29 count of accident 29\n",
      "In Nevada, the 23 hour has the most accident with 22 count of accident 22\n",
      "In New Hampshire, the 16 hour has the most accident with 11 count of accident 11\n",
      "In New Jersey, the 18 hour has the most accident with 42 count of accident 42\n",
      "In New Mexico, the 20 hour has the most accident with 31 count of accident 31\n",
      "In New York, the 17 hour has the most accident with 59 count of accident 59\n",
      "In North Carolina, the 18 hour has the most accident with 92 count of accident 92\n",
      "In North Dakota, the 16 hour has the most accident with 9 count of accident 9\n",
      "In Ohio, the 19 hour has the most accident with 77 count of accident 77\n",
      "In Oklahoma, the 16 hour has the most accident with 41 count of accident 41\n",
      "In Oregon, the 17 hour has the most accident with 31 count of accident 31\n",
      "In Pennsylvania, the 17 hour has the most accident with 64 count of accident 64\n",
      "In Rhode Island, the 1 hour has the most accident with 6 count of accident 6\n",
      "In South Carolina, the 17 hour has the most accident with 64 count of accident 64\n",
      "In South Dakota, the 14 hour has the most accident with 10 count of accident 10\n",
      "In Tennessee, the 16 hour has the most accident with 61 count of accident 61\n",
      "In Texas, the 20 hour has the most accident with 200 count of accident 200\n",
      "In Utah, the 13 hour has the most accident with 26 count of accident 26\n",
      "In Vermont, the 15 hour has the most accident with 6 count of accident 6\n",
      "In Virginia, the 17 hour has the most accident with 60 count of accident 60\n",
      "In Washington, the 15 hour has the most accident with 34 count of accident 34\n",
      "In West Virginia, the 15 hour has the most accident with 24 count of accident 24\n",
      "In Wisconsin, the 17 hour has the most accident with 45 count of accident 45\n",
      "In Wyoming, the 12 hour has the most accident with 11 count of accident 11\n"
     ]
    }
   ],
   "source": [
    "for rec in fars:\n",
    "    aColumn=rec.HOUR\n",
    "    Numhours=aColumn.mode().values[0]\n",
    "    hNumCount=aColumn.value_counts()[Numhours]\n",
    "    statecode=rec.STATE[0]\n",
    "    st1=states[statecode]\n",
    "    print('In', st1+\",\", 'the', Numhours,'hour', 'has the most accident with', hNumCount, 'count of accident', hNumCount)\n"
   ]
  },
  {
   "cell_type": "markdown",
   "metadata": {},
   "source": [
    "### Problem 3 Code Description\n",
    "\n",
    "The hour was read from the whole folder, and the mode and count for the values are calculated. Afterward, the states and their corresponding hour with the most accident is printed as output."
   ]
  },
  {
   "cell_type": "markdown",
   "metadata": {},
   "source": [
    "### Probelm 4\n",
    "For whole United States, what hour of the day has the most accidents? Output the hour and the count. "
   ]
  },
  {
   "cell_type": "code",
   "execution_count": 13,
   "metadata": {},
   "outputs": [
    {
     "name": "stdout",
     "output_type": "stream",
     "text": [
      "For the whole United States, the most accidents are in the 18 hour, and there are 1984 count of accidents\n"
     ]
    }
   ],
   "source": [
    "Data=list()\n",
    "for val in fars:\n",
    "    bColumn=val.HOUR.values\n",
    "    for b in bColumn:\n",
    "        Data.append(b)\n",
    "        \n",
    "nSeries=pd.Series(Data) \n",
    "nUSA=nSeries.mode()[0]\n",
    "NumCount=nSeries.value_counts()[nUSA]\n",
    "print('For the whole United States, the most accidents are in the',nUSA, 'hour, and there are', NumCount, 'count of accidents')"
   ]
  },
  {
   "cell_type": "markdown",
   "metadata": {},
   "source": [
    "### Problem 4 Code Description\n",
    "I appended the hour into an empty list named Data. The mode and the count for the hour with the highest accidents were printed."
   ]
  },
  {
   "cell_type": "markdown",
   "metadata": {},
   "source": [
    "### Probelm 5\n",
    "For each state, what is the percentage of fatal accidents involved at least one drunk driver? If the column, DRUNK_DR, has a 0, then no drunk drivers were involved. Any number larger than 0 indicates the number of drunk drivers involved in the accident."
   ]
  },
  {
   "cell_type": "code",
   "execution_count": 14,
   "metadata": {},
   "outputs": [
    {
     "name": "stdout",
     "output_type": "stream",
     "text": [
      "In Alabama, there is 14.621131270010673 percent of fatal accidents that involved at least one drunk driver\n",
      "In Alaska, there is 44.871794871794876 percent of fatal accidents that involved at least one drunk driver\n",
      "In Arizona, there is 23.352601156069362 percent of fatal accidents that involved at least one drunk driver\n",
      "In Arkansas, there is 23.36065573770492 percent of fatal accidents that involved at least one drunk driver\n",
      "In California, there is 23.443550789395292 percent of fatal accidents that involved at least one drunk driver\n",
      "In Colorado, there is 33.691756272401435 percent of fatal accidents that involved at least one drunk driver\n",
      "In Connecticut, there is 29.537366548042705 percent of fatal accidents that involved at least one drunk driver\n",
      "In Delaware, there is 31.03448275862069 percent of fatal accidents that involved at least one drunk driver\n",
      "In District of Columbia, there is 38.46153846153847 percent of fatal accidents that involved at least one drunk driver\n",
      "In Florida, there is 21.241050119331742 percent of fatal accidents that involved at least one drunk driver\n",
      "In Georgia, there is 21.729957805907173 percent of fatal accidents that involved at least one drunk driver\n",
      "In Hawaii, there is 24.770642201834864 percent of fatal accidents that involved at least one drunk driver\n",
      "In Idaho, there is 28.448275862068968 percent of fatal accidents that involved at least one drunk driver\n",
      "In Illinois, there is 26.420737786640082 percent of fatal accidents that involved at least one drunk driver\n",
      "In Indiana, there is 17.708333333333336 percent of fatal accidents that involved at least one drunk driver\n",
      "In Iowa, there is 25.842696629213485 percent of fatal accidents that involved at least one drunk driver\n",
      "In Kansas, there is 20.47244094488189 percent of fatal accidents that involved at least one drunk driver\n",
      "In Kentucky, there is 24.901703800786372 percent of fatal accidents that involved at least one drunk driver\n",
      "In Louisiana, there is 29.545454545454547 percent of fatal accidents that involved at least one drunk driver\n",
      "In Maine, there is 31.125827814569533 percent of fatal accidents that involved at least one drunk driver\n",
      "In Maryland, there is 23.728813559322035 percent of fatal accidents that involved at least one drunk driver\n",
      "In Massachusetts, there is 28.690807799442897 percent of fatal accidents that involved at least one drunk driver\n",
      "In Michigan, there is 24.79591836734694 percent of fatal accidents that involved at least one drunk driver\n",
      "In Minnesota, there is 27.73109243697479 percent of fatal accidents that involved at least one drunk driver\n",
      "In Mississippi, there is 16.401273885350317 percent of fatal accidents that involved at least one drunk driver\n",
      "In Missouri, there is 27.534562211981566 percent of fatal accidents that involved at least one drunk driver\n",
      "In Montana, there is 47.953216374269005 percent of fatal accidents that involved at least one drunk driver\n",
      "In Nebraska, there is 38.659793814432994 percent of fatal accidents that involved at least one drunk driver\n",
      "In Nevada, there is 29.7029702970297 percent of fatal accidents that involved at least one drunk driver\n",
      "In New Hampshire, there is 30.0 percent of fatal accidents that involved at least one drunk driver\n",
      "In New Jersey, there is 21.968365553602812 percent of fatal accidents that involved at least one drunk driver\n",
      "In New Mexico, there is 29.05027932960894 percent of fatal accidents that involved at least one drunk driver\n",
      "In New York, there is 17.2020725388601 percent of fatal accidents that involved at least one drunk driver\n",
      "In North Carolina, there is 28.41246290801187 percent of fatal accidents that involved at least one drunk driver\n",
      "In North Dakota, there is 48.03921568627451 percent of fatal accidents that involved at least one drunk driver\n",
      "In Ohio, there is 33.523266856600195 percent of fatal accidents that involved at least one drunk driver\n",
      "In Oklahoma, there is 27.564102564102566 percent of fatal accidents that involved at least one drunk driver\n",
      "In Oregon, there is 26.905829596412556 percent of fatal accidents that involved at least one drunk driver\n",
      "In Pennsylvania, there is 23.621323529411764 percent of fatal accidents that involved at least one drunk driver\n",
      "In Rhode Island, there is 37.5 percent of fatal accidents that involved at least one drunk driver\n",
      "In South Carolina, there is 35.47008547008547 percent of fatal accidents that involved at least one drunk driver\n",
      "In South Dakota, there is 41.74757281553398 percent of fatal accidents that involved at least one drunk driver\n",
      "In Tennessee, there is 22.56728778467909 percent of fatal accidents that involved at least one drunk driver\n",
      "In Texas, there is 24.713824479013795 percent of fatal accidents that involved at least one drunk driver\n",
      "In Utah, there is 19.69111969111969 percent of fatal accidents that involved at least one drunk driver\n",
      "In Vermont, there is 47.368421052631575 percent of fatal accidents that involved at least one drunk driver\n",
      "In Virginia, there is 29.224376731301938 percent of fatal accidents that involved at least one drunk driver\n",
      "In Washington, there is 31.547619047619047 percent of fatal accidents that involved at least one drunk driver\n",
      "In West Virginia, there is 27.6 percent of fatal accidents that involved at least one drunk driver\n",
      "In Wisconsin, there is 31.985294117647058 percent of fatal accidents that involved at least one drunk driver\n",
      "In Wyoming, there is 28.999999999999996 percent of fatal accidents that involved at least one drunk driver\n"
     ]
    }
   ],
   "source": [
    "for f in fars:\n",
    "    dColumn=f.DRUNK_DR\n",
    "    drunkdrivers=[d for d in dColumn if d>0]\n",
    "    percent=(len(drunkdrivers)/len(dColumn)) *100\n",
    "    statec=f.STATE[0]\n",
    "    st2=states[statec]\n",
    "    print('In', st2+\",\", 'there is', percent, 'percent of fatal accidents that involved at least one drunk driver')"
   ]
  },
  {
   "cell_type": "markdown",
   "metadata": {},
   "source": [
    "### Problem 5 Code Description\n",
    "\n",
    "I used f to collect the column with of drunk driver, but using list comprehension to filter zero entry in the dataset. I used drunkdrivers variable to collect the drunk drivers and sliced the states."
   ]
  },
  {
   "cell_type": "markdown",
   "metadata": {},
   "source": [
    "### Probelm 6\n",
    "For whole United States, what is the percentage of fatal accidents involved at least one drunk driver?"
   ]
  },
  {
   "cell_type": "code",
   "execution_count": 25,
   "metadata": {},
   "outputs": [
    {
     "name": "stdout",
     "output_type": "stream",
     "text": [
      "The percentage of fatal accidents that involved at least one drunk driver is 25.320131246551874\n"
     ]
    }
   ],
   "source": [
    "wUsadrunk=list()\n",
    "wUsa=[]\n",
    "for r in fars:\n",
    "    rColumn=r.DRUNK_DR\n",
    "    k=[d for d in rColumn if d>0]\n",
    "    c=[c for c in rColumn]\n",
    "    for item in k:\n",
    "        wUsadrunk.append(item)\n",
    "    for el in c:\n",
    "        wUsa.append(el)    \n",
    "Percentage=(len(wUsadrunk)/len(wUsa))*100   \n",
    "print('The percentage of fatal accidents that involved at least one drunk driver is', Percentage)        "
   ]
  },
  {
   "cell_type": "markdown",
   "metadata": {},
   "source": [
    "### Problem 6 Code Description\n",
    "I created two empty lists and appended the required values into the lists. Afterward, I calculated the percentage and printed the percentage."
   ]
  },
  {
   "cell_type": "markdown",
   "metadata": {},
   "source": [
    "### Problem 7\n",
    "For whole United States, how many fatalities were caused by each type of collision? Use the MAN_COLL column. The values in the column are below.\n",
    "\n",
    "0 Not Collision with Motor Vehicle in Transport\n",
    "\n",
    "1 Front-to-Rear\n",
    "\n",
    "2 Front-to-Front\n",
    "\n",
    "6 Angle\n",
    "\n",
    "7 Sideswipe – Same Direction\n",
    "\n",
    "8 Sideswipe – Opposite Direction\n",
    "\n",
    "9 Rear-to-Side\n",
    "\n",
    "10 Rear-to-Rear\n",
    "\n",
    "11 Other (End-Swipes and Others)\n",
    "\n",
    "98 Not Reported\n",
    "\n",
    "99 Unknown"
   ]
  },
  {
   "cell_type": "code",
   "execution_count": 8,
   "metadata": {},
   "outputs": [
    {
     "name": "stdout",
     "output_type": "stream",
     "text": [
      "In the whole United States, 21296 were caused by Not Collision with Motor Vehicle in Transport\n",
      "In the whole United States, 6122 were caused by Angle\n",
      "In the whole United States, 3511 were caused by Front-to-Front\n",
      "In the whole United States, 2350 were caused by Front-to- Rear\n",
      "In the whole United States, 519 were caused by Sideswipe-Same direction\n",
      "In the whole United States, 421 were caused by Sideswipe-Opposite Direction\n",
      "In the whole United States, 86 were caused by Others(End-Swipes and Others)\n",
      "In the whole United States, 77 were caused by unknown\n",
      "In the whole United States, 32 were caused by Rear-to-side\n",
      "In the whole United States, 23 were caused by Not Reported\n",
      "In the whole United States, 2 were caused by Rear-to-Rear\n"
     ]
    }
   ],
   "source": [
    "coll=['Not Collision with Motor Vehicle in Transport','Front-to- Rear','Front-to-Front', 'Angle',\n",
    "       'Sideswipe-Same direction','Sideswipe-Opposite Direction','Rear-to-side','Rear-to-Rear',\n",
    "       'Others(End-Swipes and Others)','Not Reported','unknown']\n",
    "colcode=[0,1,2,6,7,8,9,10,11,98,99]\n",
    "wholeUsa=[]\n",
    "for col in fars:\n",
    "    needColumn=col.MAN_COLL\n",
    "    for v in needColumn:\n",
    "        wholeUsa.append(v)        \n",
    "series=pd.Series(wholeUsa)\n",
    "counts=series.value_counts()\n",
    "for k in counts.index:\n",
    "    if k in colcode:\n",
    "        loct=colcode.index(k)\n",
    "        typ=coll[loct]\n",
    "    print('In the whole United States'+\",\", counts[k], 'were caused by', typ,) "
   ]
  },
  {
   "cell_type": "markdown",
   "metadata": {},
   "source": [
    "### Problem 7 Code Description\n",
    "\n",
    "Two variables were declared such that one is for collision type and the other is for collision code. MAN_COLL is read and attached to needColumn. Count of the collision was assigned to variable counts. The outcome was printed."
   ]
  },
  {
   "cell_type": "markdown",
   "metadata": {},
   "source": [
    "### Problem 8\n",
    "For each state, what is its fatal accident rate per 10,000 people? To calculate this, count the number of accidents in a state, divide by the state's 2016 population estimate from the nst-est2017-alldata.csv Census data file, and then multiply by 10000. Output the states' rates in order from highest to lowest. "
   ]
  },
  {
   "cell_type": "code",
   "execution_count": 27,
   "metadata": {},
   "outputs": [
    {
     "name": "stdout",
     "output_type": "stream",
     "text": [
      "2.1035601415548593\n",
      "1.9277673594216287\n",
      "1.8871644990485545\n",
      "1.7199742206747213\n",
      "1.7166706946090786\n",
      "1.7096647347455163\n",
      "1.6463583708176721\n",
      "1.633073212880798\n",
      "1.591346746040186\n",
      "1.5022970847967747\n",
      "1.452761781356645\n",
      "1.4250121815557457\n",
      "1.4198859259871026\n",
      "1.380931009401045\n",
      "1.378759349287641\n",
      "1.3671384752687386\n",
      "1.3500135001350013\n",
      "1.3272041705717286\n",
      "1.3103000243144913\n",
      "1.252055034838974\n",
      "1.2209341870244692\n",
      "1.2175946627367749\n",
      "1.195530804069912\n",
      "1.157671374178532\n",
      "1.1370645019002712\n",
      "1.1351403364225188\n",
      "1.0915349992376386\n",
      "1.0518905710147508\n",
      "1.0308738203639427\n",
      "1.0169830934423987\n",
      "1.0090224326662875\n",
      "0.9865660906160953\n",
      "0.9737718302790604\n",
      "0.9423312339325162\n",
      "0.9144081853970617\n",
      "0.9059970811923094\n",
      "0.8580549012523798\n",
      "0.8542750754546031\n",
      "0.8508585029347971\n",
      "0.8507644233311796\n",
      "0.7834347372306778\n",
      "0.7832348715118523\n",
      "0.7814127537468469\n",
      "0.762940414353639\n",
      "0.6922188829070557\n",
      "0.6461479986606457\n",
      "0.6337420765533698\n",
      "0.5261059178709094\n",
      "0.4864821973226238\n",
      "0.4538723824328695\n",
      "0.37993032662317927\n"
     ]
    }
   ],
   "source": [
    "file =[f for f in os.listdir(\"FARS\") if f.startswith(\"n\")]\n",
    "for f in file:\n",
    "    pt=os.path.join(\"FARS\",f)\n",
    "    nstdata=pd.read_csv(pt)\n",
    "code = nst['STATE'][5:57]\n",
    "pop = nst['POPESTIMATE2016'][5:57]\n",
    "z = dict(zip(code, pop)) \n",
    "finalDic={}\n",
    "for frame in fars:\n",
    "    state=frame.STATE.values[0]\n",
    "    accidentperstate=len(frame.STATE)\n",
    "    for key,v in z.items():\n",
    "        if key==float(state):\n",
    "            mstate=v\n",
    "    st=states[state]       \n",
    "    rate=(accidentperstate/mstate)*10000\n",
    "    finalDic[st]=rate   \n",
    "from operator import itemgetter\n",
    "for st, rate in reversed(sorted(finalDic.items(), key=itemgetter(1))):  \n",
    "    print(rate )"
   ]
  },
  {
   "cell_type": "markdown",
   "metadata": {},
   "source": [
    "### Problem 8 Code Description\n",
    "\n",
    "After slicing the POPESTIMATE from the data I read into python, I calculated the rate using the format of coding that I have applied in previous problems. The output is rate from highest to lowest."
   ]
  },
  {
   "cell_type": "markdown",
   "metadata": {},
   "source": [
    "### Problem 9\n",
    "For each state, what is the rate of fatal accidents caused by drunk driving per 10,000 people? To calculate this, count the number of accidents in which a drunk driver was involved, divide by the state's 2016 population estimate from the nst-est2017-alldata.csv Census data file, and then multiply by 10000. Output the states' rates in order from highest to lowest. "
   ]
  },
  {
   "cell_type": "code",
   "execution_count": 28,
   "metadata": {},
   "outputs": [
    {
     "name": "stdout",
     "output_type": "stream",
     "text": [
      "0.7894817918540884\n",
      "0.6693788607736325\n",
      "0.6485358971236771\n",
      "0.49910509296122535\n",
      "0.4986976319534754\n",
      "0.4958027730761998\n",
      "0.47200217930149074\n",
      "0.44386050232631985\n",
      "0.4386404492290257\n",
      "0.4331407193986082\n",
      "0.4283028858823028\n",
      "0.39316356705247374\n",
      "0.3928510630192628\n",
      "0.3923708656587825\n",
      "0.38149661120576017\n",
      "0.37787420567693014\n",
      "0.3773302191741718\n",
      "0.377091392677279\n",
      "0.35332182656859856\n",
      "0.3450106601594753\n",
      "0.3399573787477815\n",
      "0.3278489320245844\n",
      "0.30620014466255724\n",
      "0.3037198192411066\n",
      "0.3017395319855013\n",
      "0.3015986811762581\n",
      "0.3014074167357681\n",
      "0.2996038248452047\n",
      "0.2938481297045645\n",
      "0.29368654688008217\n",
      "0.29238741854043093\n",
      "0.29213154908371813\n",
      "0.2818613962014548\n",
      "0.26825039867855727\n",
      "0.2507611969033963\n",
      "0.24462812246909307\n",
      "0.23134695493054713\n",
      "0.21837857615520206\n",
      "0.20645501469881797\n",
      "0.20500430584411503\n",
      "0.2009840397557379\n",
      "0.20027241119534483\n",
      "0.18898524025273625\n",
      "0.18589976815643203\n",
      "0.17918389878824625\n",
      "0.17020214341232606\n",
      "0.16752504088760678\n",
      "0.15094403771783751\n",
      "0.14612704870122278\n",
      "0.13922277604423763\n",
      "0.08368502047207829\n"
     ]
    }
   ],
   "source": [
    "final={}\n",
    "code = list(code)\n",
    "states = list(states)\n",
    "for frame in fars:\n",
    "    state=frame.STATE.values[0]\n",
    "    dColumn=frame.DRUNK_DR\n",
    "    nColumn1=[c for c in dColumn if c>0] \n",
    "    ln=len(nColumn1)\n",
    "    for key,v in z.items():\n",
    "        if key==float(state):\n",
    "            rstate=v\n",
    "    rate1=(ln/rstate)*10000\n",
    "    for s in code: \n",
    "        if s==state:\n",
    "            loc=code.index(s)\n",
    "            sname=states[loc]\n",
    "    final[sname]=rate1\n",
    "for sname, rate1 in reversed(sorted(final.items(), key=itemgetter(1))):  \n",
    "    print(rate1)"
   ]
  },
  {
   "cell_type": "markdown",
   "metadata": {},
   "source": [
    "### Problem 9 Code Description\n",
    "\n",
    "All the coding approach is similar to what I did above, but in this case I used list for states and state code for easy flow of the contents"
   ]
  }
 ],
 "metadata": {
  "kernelspec": {
   "display_name": "Python 3",
   "language": "python",
   "name": "python3"
  },
  "language_info": {
   "codemirror_mode": {
    "name": "ipython",
    "version": 3
   },
   "file_extension": ".py",
   "mimetype": "text/x-python",
   "name": "python",
   "nbconvert_exporter": "python",
   "pygments_lexer": "ipython3",
   "version": "3.7.3"
  }
 },
 "nbformat": 4,
 "nbformat_minor": 2
}
